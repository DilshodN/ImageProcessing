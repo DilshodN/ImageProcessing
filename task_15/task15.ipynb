{
 "cells": [
  {
   "cell_type": "code",
   "execution_count": 1,
   "id": "bcd05aaf",
   "metadata": {},
   "outputs": [],
   "source": [
    "import cv2\n",
    "import numpy as np\n",
    "import matplotlib.pyplot as plt\n",
    "\n",
    "import glob\n",
    "\n",
    "import ipywidgets as widgets"
   ]
  },
  {
   "cell_type": "code",
   "execution_count": 2,
   "id": "7dc0b2be",
   "metadata": {},
   "outputs": [],
   "source": [
    "imagesPath = glob.glob('./dota/*.jpg')"
   ]
  },
  {
   "cell_type": "code",
   "execution_count": 3,
   "id": "fe6eecc7",
   "metadata": {},
   "outputs": [],
   "source": [
    "images = []\n",
    "for path in imagesPath:\n",
    "    images.append(cv2.cvtColor(cv2.imread(path), cv2.COLOR_BGR2GRAY))"
   ]
  },
  {
   "cell_type": "code",
   "execution_count": 4,
   "id": "6363a08a",
   "metadata": {},
   "outputs": [
    {
     "data": {
      "application/vnd.jupyter.widget-view+json": {
       "model_id": "e6ff66e4ff624e2ebd849af243961895",
       "version_major": 2,
       "version_minor": 0
      },
      "text/plain": [
       "interactive(children=(IntSlider(value=3, description='idx', max=7), Output()), _dom_classes=('widget-interact'…"
      ]
     },
     "metadata": {},
     "output_type": "display_data"
    }
   ],
   "source": [
    "@widgets.interact(idx=(0, len(images) - 1))\n",
    "def showImage(idx):\n",
    "    plt.figure(figsize=(15, 15))\n",
    "    plt.imshow(images[idx], cmap='gray')\n",
    "    plt.axis('off')\n",
    "    plt.show()"
   ]
  },
  {
   "cell_type": "code",
   "execution_count": 5,
   "id": "4650dad8",
   "metadata": {},
   "outputs": [
    {
     "data": {
      "image/png": "[encoded data removed]",
      "text/plain": [
       "<Figure size 432x288 with 1 Axes>"
      ]
     },
     "metadata": {
      "needs_background": "light"
     },
     "output_type": "display_data"
    }
   ],
   "source": [
    "template = cv2.imread('template3.png', 0)\n",
    "plt.imshow(template, cmap='gray')\n",
    "plt.axis('off')\n",
    "plt.show()"
   ]
  },
  {
   "cell_type": "code",
   "execution_count": 6,
   "id": "f8edb230",
   "metadata": {},
   "outputs": [
    {
     "data": {
      "text/plain": [
       "(1432, 76)"
      ]
     },
     "execution_count": 6,
     "metadata": {},
     "output_type": "execute_result"
    }
   ],
   "source": [
    "template.shape[::-1]"
   ]
  },
  {
   "cell_type": "code",
   "execution_count": 7,
   "id": "7928f390",
   "metadata": {},
   "outputs": [],
   "source": [
    "w, h = template.shape[::-1]\n",
    "\n",
    "method = eval('cv2.TM_CCOEFF_NORMED')"
   ]
  },
  {
   "cell_type": "code",
   "execution_count": 97,
   "id": "2daad1e6",
   "metadata": {},
   "outputs": [
    {
     "data": {
      "application/vnd.jupyter.widget-view+json": {
       "model_id": "cc8812d185184d6dbbdb18251cc9ec01",
       "version_major": 2,
       "version_minor": 0
      },
      "text/plain": [
       "interactive(children=(IntSlider(value=3, description='idx', max=7), Output()), _dom_classes=('widget-interact'…"
      ]
     },
     "metadata": {},
     "output_type": "display_data"
    }
   ],
   "source": [
    "@widgets.interact(idx=(0, len(images) - 1))\n",
    "def showTemplate(idx):\n",
    "    plt.figure(figsize=(15, 15))\n",
    "    img = images[idx].copy()\n",
    "    \n",
    "    res = cv2.matchTemplate(img, template, method)\n",
    "    min_val, max_val, min_loc, max_loc = cv2.minMaxLoc(res)\n",
    "    top_left = max_loc\n",
    "    bottom_right = (top_left[0] + w, top_left[1] + h)\n",
    "\n",
    "    cv2.rectangle(img, top_left, bottom_right, 255, 2)\n",
    "    time_top_left = (1010, 280)\n",
    "    time_bottom_right = (top_left[0] + 700, top_left[1] + 120)\n",
    "    cv2.rectangle(img, time_bottom_right, time_top_left, 255, 2)\n",
    "    print(img.shape)\n",
    "    plt.imshow(img, cmap='gray')\n",
    "    plt.axis('off')\n",
    "    plt.show()\n",
    "    print(time_bottom_right, time_top_left)"
   ]
  },
  {
   "cell_type": "code",
   "execution_count": 65,
   "id": "8b5e74d5",
   "metadata": {},
   "outputs": [],
   "source": [
    "def clipImage(img, xy_start: tuple, xy_end: tuple):\n",
    "    new_img = img.copy()\n",
    "    return new_img[xy_start[0]:xy_start[1], xy_end[0]:xy_end[1]]"
   ]
  },
  {
   "cell_type": "code",
   "execution_count": 111,
   "id": "6e0af5f6",
   "metadata": {},
   "outputs": [
    {
     "data": {
      "application/vnd.jupyter.widget-view+json": {
       "model_id": "e4f4c38b56cb4f1da0ad5d2f5d421ee9",
       "version_major": 2,
       "version_minor": 0
      },
      "text/plain": [
       "interactive(children=(IntSlider(value=3, description='idx', max=7), Output()), _dom_classes=('widget-interact'…"
      ]
     },
     "metadata": {},
     "output_type": "display_data"
    }
   ],
   "source": [
    "@widgets.interact(idx=(0, len(images) - 1))\n",
    "def showCroppedImage(idx):\n",
    "    print(images[idx].shape)\n",
    "    plt.figure(figsize=(10, 10))\n",
    "    \n",
    "    new_img = images[idx].copy()[246:280, 911:1010]\n",
    "    blurred = cv2.medianBlur(new_img,1)\n",
    "    \n",
    "    plt.imshow(blurred, cmap='gray')\n",
    "    plt.axis('off')\n",
    "    plt.show()"
   ]
  },
  {
   "cell_type": "code",
   "execution_count": 112,
   "id": "988c4ee1",
   "metadata": {},
   "outputs": [],
   "source": [
    "time_images = []\n",
    "for img in images:\n",
    "    new_img = img.copy()[246:280, 911:1010]\n",
    "    blurred = cv2.medianBlur(new_img,1)\n",
    "    time_images.append(blurred)"
   ]
  },
  {
   "cell_type": "code",
   "execution_count": 154,
   "id": "5cb9c2f7",
   "metadata": {},
   "outputs": [],
   "source": [
    "digitsPath = glob.glob('./nums/*.png')\n",
    "digits = []\n",
    "for path in digitsPath:\n",
    "    digits.append(cv2.resize(cv2.cvtColor(cv2.imread(path), cv2.COLOR_BGR2GRAY), (34, 34)))"
   ]
  },
  {
   "cell_type": "code",
   "execution_count": 155,
   "id": "f1a424cc",
   "metadata": {},
   "outputs": [
    {
     "data": {
      "text/plain": [
       "<matplotlib.image.AxesImage at 0x1197f8430>"
      ]
     },
     "execution_count": 155,
     "metadata": {},
     "output_type": "execute_result"
    },
    {
     "data": {
      "image/png": "[encoded data removed]",
      "text/plain": [
       "<Figure size 432x288 with 1 Axes>"
      ]
     },
     "metadata": {
      "needs_background": "light"
     },
     "output_type": "display_data"
    }
   ],
   "source": [
    "plt.imshow(digits[8], cmap='gray')"
   ]
  },
  {
   "cell_type": "code",
   "execution_count": 164,
   "id": "49e6c848",
   "metadata": {},
   "outputs": [],
   "source": [
    "templ_shapes = []\n",
    "w, h = (34, 34)\n",
    "\n",
    "for i in range(len(digits)):\n",
    "    templ_shapes.append(digits[i].shape[:: -1])"
   ]
  },
  {
   "cell_type": "code",
   "execution_count": 165,
   "id": "67a5c18a",
   "metadata": {},
   "outputs": [
    {
     "data": {
      "text/plain": [
       "(34, 34)"
      ]
     },
     "execution_count": 165,
     "metadata": {},
     "output_type": "execute_result"
    }
   ],
   "source": [
    "templ_shapes[0]"
   ]
  },
  {
   "cell_type": "code",
   "execution_count": 167,
   "id": "bd289f8b",
   "metadata": {},
   "outputs": [
    {
     "data": {
      "application/vnd.jupyter.widget-view+json": {
       "model_id": "9d62f699978e4e7caade813e6a6ab07d",
       "version_major": 2,
       "version_minor": 0
      },
      "text/plain": [
       "interactive(children=(IntSlider(value=3, description='idx', max=7), FloatSlider(value=0.0, description='thresh…"
      ]
     },
     "metadata": {},
     "output_type": "display_data"
    }
   ],
   "source": [
    "@widgets.interact(idx=(0, len(images) - 1), threshold=(0, 1, 0.005))\n",
    "def showTemplate(idx, threshold):\n",
    "    img_gray = time_images[idx].copy()\n",
    "    for template in digits: \n",
    "        res = cv2.matchTemplate(img_gray, template, cv2.TM_CCOEFF_NORMED)\n",
    "        cv2.rectangle(img_gray, pt, (pt[0] + w, pt[1] + h), (255,255,255))\n",
    "    plt.imshow(img_gray, cmap='gray')"
   ]
  },
  {
   "cell_type": "code",
   "execution_count": null,
   "id": "98206c00",
   "metadata": {},
   "outputs": [],
   "source": []
  }
 ],
 "metadata": {
  "kernelspec": {
   "display_name": "Python 3 (ipykernel)",
   "language": "python",
   "name": "python3"
  },
  "language_info": {
   "codemirror_mode": {
    "name": "ipython",
    "version": 3
   },
   "file_extension": ".py",
   "mimetype": "text/x-python",
   "name": "python",
   "nbconvert_exporter": "python",
   "pygments_lexer": "ipython3",
   "version": "3.9.14"
  }
 },
 "nbformat": 4,
 "nbformat_minor": 5
}
